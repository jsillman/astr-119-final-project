{
 "cells": [
  {
   "cell_type": "code",
   "execution_count": null,
   "metadata": {},
   "outputs": [],
   "source": [
    "import numpy as np \n",
    "import matplotlib.pyplot as plt"
   ]
  },
  {
   "cell_type": "markdown",
   "metadata": {},
   "source": [
    "### Following code by Jessica\n",
    "#### With additions by Alberto for the plotting arrays"
   ]
  },
  {
   "cell_type": "code",
   "execution_count": null,
   "metadata": {},
   "outputs": [],
   "source": [
    "def function(x):        #define the function to integrate\n",
    "    return np.cos(x)\n",
    "\n",
    "#define global variables\n",
    "tolerance = 0.001\n",
    "a = 0\n",
    "b = 1.75"
   ]
  },
  {
   "cell_type": "code",
   "execution_count": null,
   "metadata": {},
   "outputs": [],
   "source": [
    "x = np.linspace(a,b,1000)\n",
    "y = function(x)\n",
    "c = np.amin(y)   #lower bound in y\n",
    "d = np.amax(y)   #upper bound in y\n",
    "\n",
    "if(np.sign(c)==np.sign(d)):     #if the entire range of the function is above or below y=0,\n",
    "        if(c<0):                # make sure that the area between the lower/upper bound and\n",
    "            d = 0               # the x-axis is counted by setting that bound = 0\n",
    "        elif(c>0):\n",
    "            c = 0"
   ]
  },
  {
   "cell_type": "code",
   "execution_count": null,
   "metadata": {},
   "outputs": [],
   "source": [
    "def integration(f,a,b,n):\n",
    "        #f = the function to integrate\n",
    "        #a = lower bound in x\n",
    "        #b = upper bound in x\n",
    "        #n = the number of random points to generate\n",
    "\n",
    "        #create x and y arrays of random points\n",
    "        xr = np.zeros(n)\n",
    "        yr = np.zeros(n)\n",
    "        #create x and y arrays for plotting\n",
    "        x_above = []\n",
    "        y_above = []\n",
    "        x_below = []\n",
    "        y_below = []\n",
    "        \n",
    "        for i in range(n):\n",
    "            xr[i] = np.random.random()*(b-a)    #spread the random points over the area\n",
    "            yr[i] = np.random.random()*(d-c)    # of the function\n",
    "            if(c<0):                #if the lower bound is negative, shift the area down so that\n",
    "                yr[i] += c          # some points are negative\n",
    "\n",
    "        pos_area_pts = 0.0      #positive points - points above y=0\n",
    "        neg_area_pts = 0.0      #negative points - points below y=0\n",
    "        for i in range(n):\n",
    "            if((yr[i]>=0 and f(xr[i])>=0) and np.fabs(yr[i])<=np.fabs(f(xr[i]))):   #for each random point:\n",
    "                pos_area_pts += 1.0\n",
    "                x_below.append(xr[i])    # •if it is positive & under the curve,\n",
    "                y_below.append(yr[i])   #   count in positive pts, and append point to y_below,x_below for plotting\n",
    "                \n",
    "            elif((yr[i]<0 and f(xr[i])<0) and np.fabs(yr[i])<=np.fabs(f(xr[i]))):   # •if it is negative & over the curve,\n",
    "                neg_area_pts += 1.0                                                 #   count in negative pts\n",
    "                x_below.append(xr[i])    #append point to y_above,x_above for plotting\n",
    "                y_below.append(yr[i])\n",
    "                \n",
    "            else:\n",
    "                x_above.append(xr[i])         #collect non-area points in arrays for plotting\n",
    "                y_above.append(yr[i])\n",
    "                \n",
    "\n",
    "        area_pts = pos_area_pts - neg_area_pts      #subtract negative area from positive area\n",
    "        ratio = area_pts/n                          #calculate the ratio of points under the curve to total points\n",
    "        area = ratio*(b-a)*(d-c)                    #apply the ratio to the total area within the bounds\n",
    "\n",
    "        return area,x_above,y_above,x_below,y_below"
   ]
  },
  {
   "cell_type": "markdown",
   "metadata": {},
   "source": [
    "### Following code by Jonathan\n",
    "#### With assistance and additions for plotting mechanics by Jessica and Alberto"
   ]
  },
  {
   "cell_type": "code",
   "execution_count": null,
   "metadata": {
    "scrolled": true
   },
   "outputs": [],
   "source": [
    "cond_tol = 100           #This variable changes in the while\n",
    "npoints = 100           #sets initial number points\n",
    "npoints_1 = 150\n",
    "print(\"May take some time. Please wait\")\n",
    "while cond_tol >= tolerance:               #returns answer until tolerance is achieved\n",
    "    npoints += (npoints * 2)               #increase number of points for each run\n",
    "    npoints_1 += (npoints_1 * 2)\n",
    "    integratortuple = integration(function,a,b,npoints)     #for plotting purposes\n",
    "    integratortuple_1 = integration(function,a,b,npoints_1)\n",
    "    area = integratortuple[0]\n",
    "    area_1 = integratortuple_1[0]\n",
    "\n",
    "    mcintegral = area            #returns areas\n",
    "    mcintegral_1 = area_1\n",
    "    print(mcintegral)\n",
    "    print(mcintegral_1)\n",
    "    \n",
    "    cond_tol = np.fabs(mcintegral_1 - mcintegral)    #cond_tol is redefind to difference between the areas \n",
    "\n",
    "s= \"npoints used =%d\"%npoints           #plotting purposes\n",
    "s1= \"npoints1 used =%d\"%npoints_1\n",
    "\n",
    "print(s,s1)\n",
    "print(\"done\")"
   ]
  },
  {
   "cell_type": "code",
   "execution_count": null,
   "metadata": {},
   "outputs": [],
   "source": [
    "print(\"The integral of the function is =\" +str(mcintegral_1))"
   ]
  },
  {
   "cell_type": "markdown",
   "metadata": {},
   "source": [
    "### Following code by Alberto\n",
    "#### With assistance from Jessica and Jonathan"
   ]
  },
  {
   "cell_type": "code",
   "execution_count": null,
   "metadata": {
    "scrolled": true
   },
   "outputs": [],
   "source": [
    "f= plt.figure(figsize=(9,9))\n",
    "x = np.linspace(a,b,1000)\n",
    "y = function(x)\n",
    "plt.plot(integratortuple[1],integratortuple[2],'.',markersize=0.2,color='red',label=\"Points below\") #plot arrays from integrator function\n",
    "plt.plot(integratortuple[3],integratortuple[4],'.',markersize=0.2,color='blue',label=\"Points above\")\n",
    "plt.plot(x,y,color='black',label='f(x)')\n",
    "s=\"F(a,b)=\"+str(mcintegral_1)\n",
    "plt.plot(0,0,label=s)\n",
    "plt.xlim(a,b)\n",
    "plt.ylim(c,d)\n",
    "plt.xlabel('x')\n",
    "plt.ylabel('y')\n",
    "plt.legend(loc=1,markerscale=20,frameon=True)"
   ]
  },
  {
   "cell_type": "code",
   "execution_count": null,
   "metadata": {},
   "outputs": [],
   "source": []
  },
  {
   "cell_type": "code",
   "execution_count": null,
   "metadata": {},
   "outputs": [],
   "source": []
  },
  {
   "cell_type": "code",
   "execution_count": null,
   "metadata": {},
   "outputs": [],
   "source": []
  },
  {
   "cell_type": "code",
   "execution_count": null,
   "metadata": {},
   "outputs": [],
   "source": []
  },
  {
   "cell_type": "code",
   "execution_count": null,
   "metadata": {},
   "outputs": [],
   "source": []
  }
 ],
 "metadata": {
  "kernelspec": {
   "display_name": "Python 3",
   "language": "python",
   "name": "python3"
  },
  "language_info": {
   "codemirror_mode": {
    "name": "ipython",
    "version": 3
   },
   "file_extension": ".py",
   "mimetype": "text/x-python",
   "name": "python",
   "nbconvert_exporter": "python",
   "pygments_lexer": "ipython3",
   "version": "3.7.0"
  }
 },
 "nbformat": 4,
 "nbformat_minor": 2
}
