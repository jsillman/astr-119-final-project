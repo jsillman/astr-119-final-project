{
 "cells": [
  {
   "cell_type": "code",
   "execution_count": null,
   "metadata": {},
   "outputs": [],
   "source": [
    "import numpy as np\n",
    "import matplotlib.pyplot as plt"
   ]
  },
  {
   "cell_type": "code",
   "execution_count": null,
   "metadata": {},
   "outputs": [],
   "source": [
    "def function(x):\n",
    "    return np.cos(x)"
   ]
  },
  {
   "cell_type": "code",
   "execution_count": null,
   "metadata": {},
   "outputs": [],
   "source": [
    "def integration(f,a,b,tolerance):\n",
    "    x = np.linspace(a,b,1000)\n",
    "    y = f(x)\n",
    "    c = np.amin(y)\n",
    "    d = np.amax(y)\n",
    "    \n",
    "    if(np.sign(c)==np.sign(d)):\n",
    "        if(c<0):\n",
    "            d=0\n",
    "        elif(c>0):\n",
    "            c=0\n",
    "    \n",
    "    error = 0\n",
    "    area_array = np.zeros(0)\n",
    "    err_result = 20\n",
    "    total_pts = 0\n",
    "    flag = True\n",
    "    while(flag):\n",
    "        total_pts += err_result\n",
    "        xr = np.zeros(err_result)\n",
    "        yr = np.zeros(err_result)\n",
    "        for i in range(err_result):\n",
    "            xr[i] = np.random.random()*(b-a)\n",
    "            yr[i] = np.random.random()*(d-c)\n",
    "            if(c<0):\n",
    "                yr += c\n",
    "        \n",
    "        pos_area_pts = 0\n",
    "        neg_area_pts = 0\n",
    "        for i in range(err_result):\n",
    "            if((yr[i]>=0 and f(xr[i])>=0) and np.fabs(yr[i])<=np.fabs(f(xr[i]))):\n",
    "                pos_area_pts += 1\n",
    "            elif((yr[i]<0 and f(xr[i])<0) and np.fabs(yr[i])<=np.fabs(f(xr[i]))):\n",
    "                neg_area_pts += 1\n",
    "        \n",
    "        area_pts = pos_area_pts - neg_area_pts\n",
    "        ratio = area_pts/err_result              #problem: this ratio always goes to 1\n",
    "        area = ratio*(b-a)*(d-c)\n",
    "        np.append(area_array,area)\n",
    "        for i in range(len(area_array)):\n",
    "            error = (area_array[i] - area_array[i-1])/area_array[i]\n",
    "        print(error)\n",
    "        if(error/tolerance>=1.0):\n",
    "            flag = False\n",
    "        \n",
    "        if(error>=.000000001):\n",
    "            err_result += 20\n",
    "        print(err_result)\n",
    "    print(len(area_array))\n",
    "    return area"
   ]
  },
  {
   "cell_type": "code",
   "execution_count": null,
   "metadata": {},
   "outputs": [],
   "source": [
    "a = 0.0\n",
    "b = 1.75\n",
    "tolerance = .001\n",
    "answer = np.sin(1.75)       #calculate the true answer for this specific function         #calculate the monte carlo integral\n",
    "                                   #I average the result of 1000 calculations in order\n",
    "mcintegral = integration(function,a,b,tolerance)     # to obtain better accuracy - functionally, I am\n",
    "                                     # generating 1 million points.\n",
    "print(\"Answer = \"+str(answer))              #print the true answer and the monte carlo result\n",
    "print(\"Monte Carlo = \"+str(mcintegral))"
   ]
  },
  {
   "cell_type": "code",
   "execution_count": null,
   "metadata": {},
   "outputs": [],
   "source": []
  }
 ],
 "metadata": {
  "kernelspec": {
   "display_name": "Python 3",
   "language": "python",
   "name": "python3"
  },
  "language_info": {
   "codemirror_mode": {
    "name": "ipython",
    "version": 3
   },
   "file_extension": ".py",
   "mimetype": "text/x-python",
   "name": "python",
   "nbconvert_exporter": "python",
   "pygments_lexer": "ipython3",
   "version": "3.6.5"
  }
 },
 "nbformat": 4,
 "nbformat_minor": 2
}
