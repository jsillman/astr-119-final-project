{
 "cells": [
  {
   "cell_type": "code",
   "execution_count": null,
   "metadata": {},
   "outputs": [],
   "source": [
    "import numpy as np                       #import numpy and matplotlib\n",
    "import matplotlib.pyplot as plt "
   ]
  },
  {
   "cell_type": "code",
   "execution_count": null,
   "metadata": {},
   "outputs": [],
   "source": [
    "def function(x):        #define the function to integrate\n",
    "    return np.cos(x)\n",
    "\n",
    "a = 0                   #input range of x values to integrate over\n",
    "b = 1.75\n",
    "tolerance = 0.001       #choose how accurate a result you would like to a certain decimal point"
   ]
  },
  {
   "cell_type": "code",
   "execution_count": null,
   "metadata": {},
   "outputs": [],
   "source": [
    "x = np.linspace(a,b,1000)       #create x and y arrays along the function in order to find the upper and lower bounds in y\n",
    "y = function(x)                 #set the function equal to y\n",
    "c = np.amin(y)                  #lower bound in y\n",
    "d = np.amax(y)                  #upper bound in y\n",
    "\n",
    "if(np.sign(c)==np.sign(d)):     #if the entire range of the function is above or below y=0,\n",
    "        if(c<0):                # make sure that the area between the lower/upper bound and\n",
    "            d = 0               # the x-axis is counted by setting that bound = 0\n",
    "        elif(c>0):\n",
    "            c = 0"
   ]
  },
  {
   "cell_type": "code",
   "execution_count": null,
   "metadata": {},
   "outputs": [],
   "source": [
    "def integration(f,a,b,n):\n",
    "        #f = the function to integrate\n",
    "        #a = lower bound in x\n",
    "        #b = upper bound in x\n",
    "        #n = the number of random points to generate\n",
    "        \n",
    "        xr = np.zeros(n)                               #create x and y arrays of random points\n",
    "        yr = np.zeros(n)\n",
    "        for i in range(n):\n",
    "            xr[i] = np.random.random()*(b-a)           #spread the random points over the area\n",
    "            yr[i] = np.random.random()*(d-c)           # of the function\n",
    "            if(c<0):                                   #if the lower bound is negative, shift the area down so that\n",
    "                yr[i] += c                             # some points are negative\n",
    "\n",
    "        pos_area_pts = 0.0                             #positive points - points above y=0\n",
    "        neg_area_pts = 0.0                             #negative points - points below y=0\n",
    "        for i in range(n):\n",
    "            if((yr[i]>=0 and f(xr[i])>=0) and np.fabs(yr[i])<=np.fabs(f(xr[i]))):   #for each random point:\n",
    "                pos_area_pts += 1.0                                                 # •if it is positive & under the curve,\n",
    "                                                                                    #   count in positive pts\n",
    "            elif((yr[i]<0 and f(xr[i])<0) and np.fabs(yr[i])<=np.fabs(f(xr[i]))):   # •if it is negative & over the curve,\n",
    "                neg_area_pts += 1.0                                                 #   count in negative pts\n",
    "               \n",
    "        area_pts = pos_area_pts - neg_area_pts      #subtract negative area from positive area\n",
    "        ratio = area_pts/n                          #calculate the ratio of points under the curve to total points\n",
    "        area = ratio*(b-a)*(d-c)                    #apply the ratio to the total area within the bounds\n",
    "\n",
    "        return area"
   ]
  },
  {
   "cell_type": "code",
   "execution_count": null,
   "metadata": {},
   "outputs": [],
   "source": [
    "cond_tol = 100                                          #This number is changed in the while loop. It was made a large number to \n",
    "npoints = 100                                           #to initiate the while loop.\n",
    "npoints_1 = 150                                         #starting number of points for integrator to use\n",
    "print(\"May take some time. Please wait\")                # message to user\n",
    "while cond_tol >= tolerance:                            #This reruns the integrator with increasing number of points until the\n",
    "    npoints += (npoints + 10)                          #desired tolerance is achieved.\n",
    "    npoints_1 += (npoints_1 + 10)\n",
    "    \n",
    "    mcintegral = 0.0                                    #This calculates the integral. mcintegral_1 has more points plotted than\n",
    "    mcintegral += integration(function,a,b,npoints)     #mcintegral\n",
    "    \n",
    "    mcintegral_1 = 0.0\n",
    "    mcintegral_1 += integration(function,a,b,npoints_1)\n",
    "    \n",
    "    print(mcintegral)                                   #prints answer for each run of the while loop\n",
    "    print(mcintegral_1)\n",
    "    cond_tol = np.fabs(mcintegral_1 - mcintegral)       #calculates the absolute difference between the two numerical estimates\n",
    "                                                        #of the integral\n",
    "\n",
    "print(\"done\")                                           #tells user the integrator has found the answer within the tolerance"
   ]
  },
  {
   "cell_type": "code",
   "execution_count": null,
   "metadata": {},
   "outputs": [],
   "source": [
    "print(\"The integral of the function is =\" +str(mcintegral_1))"
   ]
  },
  {
   "cell_type": "code",
   "execution_count": null,
   "metadata": {},
   "outputs": [],
   "source": [
    "print(cond_tol)"
   ]
  },
  {
   "cell_type": "code",
   "execution_count": null,
   "metadata": {},
   "outputs": [],
   "source": [
    "z = np.sin(1.75)\n",
    "print(z)"
   ]
  },
  {
   "cell_type": "code",
   "execution_count": null,
   "metadata": {},
   "outputs": [],
   "source": []
  }
 ],
 "metadata": {
  "kernelspec": {
   "display_name": "Python 3",
   "language": "python",
   "name": "python3"
  },
  "language_info": {
   "codemirror_mode": {
    "name": "ipython",
    "version": 3
   },
   "file_extension": ".py",
   "mimetype": "text/x-python",
   "name": "python",
   "nbconvert_exporter": "python",
   "pygments_lexer": "ipython3",
   "version": "3.7.0"
  }
 },
 "nbformat": 4,
 "nbformat_minor": 2
}
