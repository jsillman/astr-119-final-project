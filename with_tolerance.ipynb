{
 "cells": [
  {
   "cell_type": "code",
   "execution_count": 44,
   "metadata": {},
   "outputs": [],
   "source": [
    "import numpy as np \n",
    "import matplotlib.pyplot as plt "
   ]
  },
  {
   "cell_type": "code",
   "execution_count": 45,
   "metadata": {},
   "outputs": [],
   "source": [
    "def function(x):        #define the function to integrate\n",
    "    return (x + 3)\n",
    "cond_tol = 100\n",
    "tolerance = 0.001"
   ]
  },
  {
   "cell_type": "code",
   "execution_count": 46,
   "metadata": {},
   "outputs": [
    {
     "name": "stdout",
     "output_type": "stream",
     "text": [
      "6.782517874999994\n",
      "6.7781491944444525\n",
      "6.781088124999998\n",
      "6.780738999999989\n",
      "done\n"
     ]
    }
   ],
   "source": [
    "npoints = 10\n",
    "npoints_1 = 15\n",
    "while cond_tol >= tolerance: \n",
    "    npoints += (10 + npoints)\n",
    "    npoints_1 += (10 + npoints_1)\n",
    "    def integration(f,a,b,n):\n",
    "        #f = the function to integrate\n",
    "        #a = lower bound in x\n",
    "        #b = upper bound in x\n",
    "        #n = the number of random points to generate\n",
    "\n",
    "        #create x and y arrays along the function in order to find the upper and lower bounds in y\n",
    "        x = np.linspace(a,b,n)\n",
    "        y = f(x)\n",
    "        c = np.amin(y)   #lower bound in y\n",
    "        d = np.amax(y)   #upper bound in y\n",
    "\n",
    "        if(np.sign(c)==np.sign(d)):     #if the entire range of the function is above or below y=0,\n",
    "                if(c<0):                # make sure that the area between the lower/upper bound and\n",
    "                    d = 0               # the x-axis is counted by setting that bound = 0\n",
    "                elif(c>0):\n",
    "                    c = 0\n",
    "\n",
    "        #create x and y arrays of random points\n",
    "        xr = np.zeros(n)\n",
    "        yr = np.zeros(n)\n",
    "        for i in range(n):\n",
    "            xr[i] = np.random.random()*(b-a)    #spread the random points over the area\n",
    "            yr[i] = np.random.random()*(d-c)    # of the function\n",
    "            if(c<0):                #if the lower bound is negative, shift the area down so that\n",
    "                yr[i] += c          # some points are negative\n",
    "\n",
    "\n",
    "        pos_area_pts = 0.0      #positive points - points above y=0\n",
    "        neg_area_pts = 0.0      #negative points - points below y=0\n",
    "        for i in range(n):\n",
    "            if((yr[i]>=0 and f(xr[i])>=0) and np.fabs(yr[i])<=np.fabs(f(xr[i]))):   #for each random point:\n",
    "                pos_area_pts += 1.0                                                 # •if it is positive & under the curve,\n",
    "                #print(\"Positive point found: (%s, %s)\"%(xr[i],yr[i]))              #   count in positive pts\n",
    "            elif((yr[i]<0 and f(xr[i])<0) and np.fabs(yr[i])<=np.fabs(f(xr[i]))):   # •if it is negative & over the curve,\n",
    "                neg_area_pts += 1.0                                                 #   count in negative pts\n",
    "                #print(\"Negative point found: (%s, %s)\"%(xr[i],yr[i]))\n",
    "\n",
    "        area_pts = pos_area_pts - neg_area_pts      #subtract negative area from positive area\n",
    "        ratio = area_pts/n                      #calculate the ratio of points under the curve to total points\n",
    "        area = ratio*(b-a)*(d-c)            #apply the ratio to the total area within the bounds\n",
    "\n",
    "        return area \n",
    "    def integration(f,a,b,n):\n",
    "        #f = the function to integrate\n",
    "        #a = lower bound in x\n",
    "        #b = upper bound in x\n",
    "        #n = the number of random points to generate\n",
    "\n",
    "        #create x and y arrays along the function in order to find the upper and lower bounds in y\n",
    "        x = np.linspace(a,b,n)\n",
    "        y = f(x)\n",
    "        c = np.amin(y)   #lower bound in y\n",
    "        d = np.amax(y)   #upper bound in y\n",
    "\n",
    "        if(np.sign(c)==np.sign(d)):     #if the entire range of the function is above or below y=0,\n",
    "                if(c<0):                # make sure that the area between the lower/upper bound and\n",
    "                    d = 0               # the x-axis is counted by setting that bound = 0\n",
    "                elif(c>0):\n",
    "                    c = 0\n",
    "\n",
    "        #create x and y arrays of random points\n",
    "        xr = np.zeros(n)\n",
    "        yr = np.zeros(n)\n",
    "        for i in range(n):\n",
    "            xr[i] = np.random.random()*(b-a)    #spread the random points over the area\n",
    "            yr[i] = np.random.random()*(d-c)    # of the function\n",
    "            if(c<0):                #if the lower bound is negative, shift the area down so that\n",
    "                yr[i] += c          # some points are negative\n",
    "\n",
    "\n",
    "        pos_area_pts = 0.0      #positive points - points above y=0\n",
    "        neg_area_pts = 0.0      #negative points - points below y=0\n",
    "        for i in range(n):\n",
    "            if((yr[i]>=0 and f(xr[i])>=0) and np.fabs(yr[i])<=np.fabs(f(xr[i]))):   #for each random point:\n",
    "                pos_area_pts += 1.0                                                 # •if it is positive & under the curve,\n",
    "                #print(\"Positive point found: (%s, %s)\"%(xr[i],yr[i]))              #   count in positive pts\n",
    "            elif((yr[i]<0 and f(xr[i])<0) and np.fabs(yr[i])<=np.fabs(f(xr[i]))):   # •if it is negative & over the curve,\n",
    "                neg_area_pts += 1.0                                                 #   count in negative pts\n",
    "                #print(\"Negative point found: (%s, %s)\"%(xr[i],yr[i]))\n",
    "\n",
    "        area_pts = pos_area_pts - neg_area_pts      #subtract negative area from positive area\n",
    "        ratio = area_pts/n                      #calculate the ratio of points under the curve to total points\n",
    "        area = ratio*(b-a)*(d-c)            #apply the ratio to the total area within the bounds\n",
    "\n",
    "        return area\n",
    "    def integration_1(f,a_1,b_1,n_1):\n",
    "        #f = the function to integrate\n",
    "        #a = lower bound in x\n",
    "        #b = upper bound in x\n",
    "        #n = the number of random points to generate\n",
    "\n",
    "        #create x and y arrays along the function in order to find the upper and lower bounds in y\n",
    "        x = np.linspace(a_1,b_1,n_1)\n",
    "        y = f(x)\n",
    "        c_1 = np.amin(y)   #lower bound in y\n",
    "        d_1 = np.amax(y)   #upper bound in y\n",
    "\n",
    "        if(np.sign(c_1)==np.sign(d_1)):     #if the entire range of the function is above or below y=0,\n",
    "                if(c_1<0):                # make sure that the area between the lower/upper bound and\n",
    "                    d_1 = 0               # the x-axis is counted by setting that bound = 0\n",
    "                elif(c_1>0):\n",
    "                    c_1 = 0\n",
    "\n",
    "        #create x and y arrays of random points\n",
    "        xr_1 = np.zeros(n_1)\n",
    "        yr_1 = np.zeros(n_1)\n",
    "        for j in range(n_1):\n",
    "            xr_1[j] = np.random.random()*(b-a)    #spread the random points over the area\n",
    "            yr_1[j] = np.random.random()*(d_1-c_1)    # of the function\n",
    "            if(c_1<0):                #if the lower bound is negative, shift the area down so that\n",
    "                yr_1[j] += c_1         # some points are negative\n",
    "\n",
    "\n",
    "        pos_area_pts_1 = 0.0      #positive points - points above y=0\n",
    "        neg_area_pts_1 = 0.0      #negative points - points below y=0\n",
    "        for j in range(n_1):\n",
    "            if((yr_1[j]>=0 and f(xr_1[j])>=0) and np.fabs(yr_1[j])<=np.fabs(f(xr_1[j]))):   #for each random point:\n",
    "                pos_area_pts_1 += 1.0                                                 # •if it is positive & under the curve,\n",
    "                #print(\"Positive point found: (%s, %s)\"%(xr[i],yr[i]))              #   count in positive pts\n",
    "            elif((yr_1[j]<0 and f(xr_1[j])<0) and np.fabs(yr_1[j])<=np.fabs(f(xr_1[j]))):   # •if it is negative & over the curve,\n",
    "                neg_area_pts_1 += 1.0                                                 #   count in negative pts\n",
    "                #print(\"Negative point found: (%s, %s)\"%(xr[i],yr[i]))\n",
    "\n",
    "        area_pts_1 = pos_area_pts_1 - neg_area_pts_1      #subtract negative area from positive area\n",
    "        ratio_1 = area_pts_1/n_1                      #calculate the ratio of points under the curve to total points\n",
    "        area_1 = ratio_1*(b-a)*(d_1-c_1)            #apply the ratio to the total area within the bounds\n",
    "\n",
    "        return area_1\n",
    "\n",
    "\n",
    "    \n",
    "    a = 0.0\n",
    "    b = 1.75\n",
    "    npoints = 1000\n",
    "    mcintegral = 0.0\n",
    "    for i in range(npoints):                                   #I average the result of 1000 calculations in order\n",
    "        mcintegral += integration(function,a,b,npoints)\n",
    "    mcintegral /= npoints  \n",
    "    print(mcintegral)\n",
    " \n",
    "    a = 0.0\n",
    "    b = 1.75\n",
    "    npoints_1 = 1500\n",
    "    mcintegral_1 = 0.0\n",
    "    for j in range(npoints_1):                                   #I average the result of 1000 calculations in order\n",
    "        mcintegral_1 += integration(function,a,b,npoints_1)\n",
    "    mcintegral_1 /= npoints_1  \n",
    "    print(mcintegral_1)\n",
    "    cond_tol = np.fabs(mcintegral_1 - mcintegral)\n",
    "\n",
    "print(\"done\")"
   ]
  },
  {
   "cell_type": "code",
   "execution_count": 47,
   "metadata": {},
   "outputs": [
    {
     "name": "stdout",
     "output_type": "stream",
     "text": [
      "0.00034912500000938707\n"
     ]
    }
   ],
   "source": [
    "print(cond_tol)"
   ]
  },
  {
   "cell_type": "code",
   "execution_count": 48,
   "metadata": {},
   "outputs": [
    {
     "name": "stdout",
     "output_type": "stream",
     "text": [
      "6.781088124999998\n"
     ]
    }
   ],
   "source": [
    "print(mcintegral)"
   ]
  },
  {
   "cell_type": "code",
   "execution_count": 50,
   "metadata": {},
   "outputs": [
    {
     "name": "stdout",
     "output_type": "stream",
     "text": [
      "6.78125\n"
     ]
    }
   ],
   "source": [
    "z = (1.75**2 / 2) + (3 * 1.75)\n",
    "print(z)"
   ]
  },
  {
   "cell_type": "code",
   "execution_count": null,
   "metadata": {},
   "outputs": [],
   "source": []
  }
 ],
 "metadata": {
  "kernelspec": {
   "display_name": "Python 3",
   "language": "python",
   "name": "python3"
  },
  "language_info": {
   "codemirror_mode": {
    "name": "ipython",
    "version": 3
   },
   "file_extension": ".py",
   "mimetype": "text/x-python",
   "name": "python",
   "nbconvert_exporter": "python",
   "pygments_lexer": "ipython3",
   "version": "3.6.5"
  }
 },
 "nbformat": 4,
 "nbformat_minor": 2
}
