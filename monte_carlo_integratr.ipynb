{
 "cells": [
  {
   "cell_type": "code",
   "execution_count": null,
   "metadata": {},
   "outputs": [],
   "source": [
    "import numpy as np \n",
    "import matplotlib.pyplot as plt"
   ]
  },
  {
   "cell_type": "code",
   "execution_count": null,
   "metadata": {},
   "outputs": [],
   "source": [
    "def function(x):        #define the function to integrate\n",
    "    return np.cos(x)\n",
    "cond_tol = 100\n",
    "tolerance = 0.001\n",
    "a = 0\n",
    "b = 1.75"
   ]
  },
  {
   "cell_type": "code",
   "execution_count": null,
   "metadata": {},
   "outputs": [],
   "source": [
    "x = np.linspace(a,b,1000)\n",
    "y = function(x)\n",
    "c = np.amin(y)   #lower bound in y\n",
    "d = np.amax(y)   #upper bound in y\n",
    "\n",
    "if(np.sign(c)==np.sign(d)):     #if the entire range of the function is above or below y=0,\n",
    "        if(c<0):                # make sure that the area between the lower/upper bound and\n",
    "            d = 0               # the x-axis is counted by setting that bound = 0\n",
    "        elif(c>0):\n",
    "            c = 0"
   ]
  },
  {
   "cell_type": "code",
   "execution_count": null,
   "metadata": {},
   "outputs": [],
   "source": [
    "def integration(f,a,b,n):\n",
    "        #f = the function to integrate\n",
    "        #a = lower bound in x\n",
    "        #b = upper bound in x\n",
    "        #n = the number of random points to generate\n",
    "\n",
    "     \n",
    "\n",
    "        #create x and y arrays of random points\n",
    "        xr = np.zeros(n)\n",
    "        yr = np.zeros(n)\n",
    "        x_above = []\n",
    "        y_above = []\n",
    "        x_below = []\n",
    "        y_below = []\n",
    "      \n",
    "        for i in range(n):\n",
    "            xr[i] = np.random.random()*(b-a)    #spread the random points over the area\n",
    "            yr[i] = np.random.random()*(d-c)    # of the function\n",
    "            if(c<0):                #if the lower bound is negative, shift the area down so that\n",
    "                yr[i] += c          # some points are negative\n",
    "\n",
    "\n",
    "        pos_area_pts = 0.0      #positive points - points above y=0\n",
    "        neg_area_pts = 0.0      #negative points - points below y=0\n",
    "        for i in range(n):\n",
    "            if((yr[i]>=0 and f(xr[i])>=0) and np.fabs(yr[i])<=np.fabs(f(xr[i]))):   #for each random point:\n",
    "                pos_area_pts += 1.0\n",
    "                x_above.append(xr[i])\n",
    "                y_above.append(yr[i])\n",
    "                \n",
    "                                              # •if it is positive & under the curve,\n",
    "                                            #print(\"Positive point found: (%s, %s)\"%(xr[i],yr[i]))              #   count in positive pts\n",
    "            elif((yr[i]<0 and f(xr[i])<0) and np.fabs(yr[i])<=np.fabs(f(xr[i]))):   # •if it is negative & over the curve,\n",
    "                neg_area_pts += 1.0\n",
    "                x_below.append(xr[i])\n",
    "                y_below.append(yr[i])\n",
    "                 \n",
    "                     #   count in negative pts\n",
    "                                     #print(\"Negative point found: (%s, %s)\"%(xr[i],yr[i]))\n",
    "\n",
    "        area_pts = pos_area_pts - neg_area_pts      #subtract negative area from positive area\n",
    "        ratio = area_pts/n                      #calculate the ratio of points under the curve to total points\n",
    "        area = ratio*(b-a)*(d-c)            #apply the ratio to the total area within the bounds\n",
    "\n",
    "        return area,x_above,y_above,x_below,y_below"
   ]
  },
  {
   "cell_type": "code",
   "execution_count": null,
   "metadata": {
    "scrolled": true
   },
   "outputs": [],
   "source": [
    "npoints = 100\n",
    "npoints_1 = 150\n",
    "print(\"May take some time. Please wait\")\n",
    "while cond_tol >= tolerance: \n",
    "    npoints += (npoints * 2)\n",
    "    npoints_1 += (npoints_1 * 2)\n",
    "    area = integration(function,a,b,npoints)[0]\n",
    "    area_1 = integration(function,a,b,npoints_1)[0]\n",
    "\n",
    "\n",
    "    \n",
    "\n",
    "   \n",
    "    mcintegral = 0.0\n",
    "                                                   #for i in range(npoints):                                   #I average the result of 1000 calculations in order\n",
    "    mcintegral += area\n",
    "        \n",
    "     \n",
    "    mcintegral_1 = 0.0\n",
    "    #for j in range(npoints_1):\n",
    "    mcintegral_1 += area_1\n",
    "    #mcintegral_1 /= npoints_1\n",
    "    print(mcintegral)\n",
    " \n",
    "    \n",
    "   \n",
    "      \n",
    "    print(mcintegral_1)\n",
    "    cond_tol = np.fabs(mcintegral_1 - mcintegral)\n",
    "\n",
    "s= \"npoints used =%d\"%npoints\n",
    "s1= \"npoints1 used =%d\"%npoints_1\n",
    "\n",
    "print(s,s1)\n",
    "print(\"done\")"
   ]
  },
  {
   "cell_type": "code",
   "execution_count": null,
   "metadata": {},
   "outputs": [],
   "source": []
  },
  {
   "cell_type": "code",
   "execution_count": null,
   "metadata": {},
   "outputs": [],
   "source": []
  },
  {
   "cell_type": "code",
   "execution_count": 19,
   "metadata": {},
   "outputs": [
    {
     "ename": "TypeError",
     "evalue": "'Figure' object is not callable",
     "output_type": "error",
     "traceback": [
      "\u001b[0;31m---------------------------------------------------------------------------\u001b[0m",
      "\u001b[0;31mTypeError\u001b[0m                                 Traceback (most recent call last)",
      "\u001b[0;32m<ipython-input-19-3ae0090338f3>\u001b[0m in \u001b[0;36m<module>\u001b[0;34m()\u001b[0m\n\u001b[1;32m      3\u001b[0m \u001b[0my\u001b[0m \u001b[0;34m=\u001b[0m \u001b[0mnp\u001b[0m\u001b[0;34m.\u001b[0m\u001b[0mcos\u001b[0m\u001b[0;34m(\u001b[0m\u001b[0mx\u001b[0m\u001b[0;34m)\u001b[0m\u001b[0;34m\u001b[0m\u001b[0m\n\u001b[1;32m      4\u001b[0m \u001b[0mplt\u001b[0m\u001b[0;34m.\u001b[0m\u001b[0mplot\u001b[0m\u001b[0;34m(\u001b[0m\u001b[0mx\u001b[0m\u001b[0;34m,\u001b[0m\u001b[0my\u001b[0m\u001b[0;34m,\u001b[0m\u001b[0mcolor\u001b[0m\u001b[0;34m=\u001b[0m\u001b[0;34m'black'\u001b[0m\u001b[0;34m,\u001b[0m\u001b[0mlabel\u001b[0m\u001b[0;34m=\u001b[0m\u001b[0;34m'f(x)'\u001b[0m\u001b[0;34m)\u001b[0m\u001b[0;34m\u001b[0m\u001b[0m\n\u001b[0;32m----> 5\u001b[0;31m \u001b[0mplt\u001b[0m\u001b[0;34m.\u001b[0m\u001b[0mplot\u001b[0m\u001b[0;34m(\u001b[0m\u001b[0mintegration\u001b[0m\u001b[0;34m(\u001b[0m\u001b[0mf\u001b[0m\u001b[0;34m,\u001b[0m\u001b[0ma\u001b[0m\u001b[0;34m,\u001b[0m\u001b[0mb\u001b[0m\u001b[0;34m,\u001b[0m\u001b[0mnpoints\u001b[0m\u001b[0;34m+\u001b[0m\u001b[0mnpoints_1\u001b[0m\u001b[0;34m)\u001b[0m\u001b[0;34m[\u001b[0m\u001b[0;36m1\u001b[0m\u001b[0;34m]\u001b[0m\u001b[0;34m,\u001b[0m\u001b[0mcolor_finder\u001b[0m\u001b[0;34m(\u001b[0m\u001b[0mf\u001b[0m\u001b[0;34m,\u001b[0m\u001b[0ma\u001b[0m\u001b[0;34m,\u001b[0m\u001b[0mb\u001b[0m\u001b[0;34m,\u001b[0m\u001b[0mnpoints\u001b[0m\u001b[0;34m+\u001b[0m\u001b[0mnpoints_1\u001b[0m\u001b[0;34m)\u001b[0m\u001b[0;34m[\u001b[0m\u001b[0;36m2\u001b[0m\u001b[0;34m]\u001b[0m\u001b[0;34m,\u001b[0m\u001b[0;34m'.'\u001b[0m\u001b[0;34m,\u001b[0m\u001b[0mcolor\u001b[0m\u001b[0;34m=\u001b[0m\u001b[0;34m'red'\u001b[0m\u001b[0;34m)\u001b[0m\u001b[0;34m\u001b[0m\u001b[0m\n\u001b[0m\u001b[1;32m      6\u001b[0m \u001b[0mplt\u001b[0m\u001b[0;34m.\u001b[0m\u001b[0mplot\u001b[0m\u001b[0;34m(\u001b[0m\u001b[0mcolor_finder\u001b[0m\u001b[0;34m(\u001b[0m\u001b[0mf\u001b[0m\u001b[0;34m,\u001b[0m\u001b[0ma\u001b[0m\u001b[0;34m,\u001b[0m\u001b[0mb\u001b[0m\u001b[0;34m,\u001b[0m\u001b[0mnpoints\u001b[0m\u001b[0;34m+\u001b[0m\u001b[0mnpoints_1\u001b[0m\u001b[0;34m)\u001b[0m\u001b[0;34m[\u001b[0m\u001b[0;36m3\u001b[0m\u001b[0;34m]\u001b[0m\u001b[0;34m,\u001b[0m\u001b[0mcolor_finder\u001b[0m\u001b[0;34m(\u001b[0m\u001b[0mf\u001b[0m\u001b[0;34m,\u001b[0m\u001b[0ma\u001b[0m\u001b[0;34m,\u001b[0m\u001b[0mb\u001b[0m\u001b[0;34m,\u001b[0m\u001b[0mnpoints\u001b[0m\u001b[0;34m+\u001b[0m\u001b[0mnpoints_1\u001b[0m\u001b[0;34m)\u001b[0m\u001b[0;34m[\u001b[0m\u001b[0;36m4\u001b[0m\u001b[0;34m]\u001b[0m\u001b[0;34m,\u001b[0m\u001b[0;34m'.'\u001b[0m\u001b[0;34m,\u001b[0m\u001b[0mcolor\u001b[0m\u001b[0;34m=\u001b[0m\u001b[0;34m'blue'\u001b[0m\u001b[0;34m)\u001b[0m\u001b[0;34m\u001b[0m\u001b[0m\n\u001b[1;32m      7\u001b[0m \u001b[0ms\u001b[0m\u001b[0;34m=\u001b[0m\u001b[0;34m\"F(a,b)=%d\"\u001b[0m\u001b[0;34m%\u001b[0m\u001b[0mmcintegral\u001b[0m\u001b[0;34m\u001b[0m\u001b[0m\n",
      "\u001b[0;32m<ipython-input-15-f70d334d4162>\u001b[0m in \u001b[0;36mintegration\u001b[0;34m(f, a, b, n)\u001b[0m\n\u001b[1;32m     25\u001b[0m         \u001b[0mneg_area_pts\u001b[0m \u001b[0;34m=\u001b[0m \u001b[0;36m0.0\u001b[0m      \u001b[0;31m#negative points - points below y=0\u001b[0m\u001b[0;34m\u001b[0m\u001b[0m\n\u001b[1;32m     26\u001b[0m         \u001b[0;32mfor\u001b[0m \u001b[0mi\u001b[0m \u001b[0;32min\u001b[0m \u001b[0mrange\u001b[0m\u001b[0;34m(\u001b[0m\u001b[0mn\u001b[0m\u001b[0;34m)\u001b[0m\u001b[0;34m:\u001b[0m\u001b[0;34m\u001b[0m\u001b[0m\n\u001b[0;32m---> 27\u001b[0;31m             \u001b[0;32mif\u001b[0m\u001b[0;34m(\u001b[0m\u001b[0;34m(\u001b[0m\u001b[0myr\u001b[0m\u001b[0;34m[\u001b[0m\u001b[0mi\u001b[0m\u001b[0;34m]\u001b[0m\u001b[0;34m>=\u001b[0m\u001b[0;36m0\u001b[0m \u001b[0;32mand\u001b[0m \u001b[0mf\u001b[0m\u001b[0;34m(\u001b[0m\u001b[0mxr\u001b[0m\u001b[0;34m[\u001b[0m\u001b[0mi\u001b[0m\u001b[0;34m]\u001b[0m\u001b[0;34m)\u001b[0m\u001b[0;34m>=\u001b[0m\u001b[0;36m0\u001b[0m\u001b[0;34m)\u001b[0m \u001b[0;32mand\u001b[0m \u001b[0mnp\u001b[0m\u001b[0;34m.\u001b[0m\u001b[0mfabs\u001b[0m\u001b[0;34m(\u001b[0m\u001b[0myr\u001b[0m\u001b[0;34m[\u001b[0m\u001b[0mi\u001b[0m\u001b[0;34m]\u001b[0m\u001b[0;34m)\u001b[0m\u001b[0;34m<=\u001b[0m\u001b[0mnp\u001b[0m\u001b[0;34m.\u001b[0m\u001b[0mfabs\u001b[0m\u001b[0;34m(\u001b[0m\u001b[0mf\u001b[0m\u001b[0;34m(\u001b[0m\u001b[0mxr\u001b[0m\u001b[0;34m[\u001b[0m\u001b[0mi\u001b[0m\u001b[0;34m]\u001b[0m\u001b[0;34m)\u001b[0m\u001b[0;34m)\u001b[0m\u001b[0;34m)\u001b[0m\u001b[0;34m:\u001b[0m   \u001b[0;31m#for each random point:\u001b[0m\u001b[0;34m\u001b[0m\u001b[0m\n\u001b[0m\u001b[1;32m     28\u001b[0m                 \u001b[0mpos_area_pts\u001b[0m \u001b[0;34m+=\u001b[0m \u001b[0;36m1.0\u001b[0m\u001b[0;34m\u001b[0m\u001b[0m\n\u001b[1;32m     29\u001b[0m                 \u001b[0mx_above\u001b[0m\u001b[0;34m.\u001b[0m\u001b[0mappend\u001b[0m\u001b[0;34m(\u001b[0m\u001b[0mxr\u001b[0m\u001b[0;34m[\u001b[0m\u001b[0mi\u001b[0m\u001b[0;34m]\u001b[0m\u001b[0;34m)\u001b[0m\u001b[0;34m\u001b[0m\u001b[0m\n",
      "\u001b[0;31mTypeError\u001b[0m: 'Figure' object is not callable"
     ]
    },
    {
     "data": {
      "image/png": "[encoded data removed]",
      "text/plain": [
       "<Figure size 504x504 with 1 Axes>"
      ]
     },
     "metadata": {
      "needs_background": "light"
     },
     "output_type": "display_data"
    }
   ],
   "source": [
    "f= plt.figure(figsize=(7,7))\n",
    "x = np.linspace(a,b,1000)\n",
    "y = np.cos(x)\n",
    "plt.plot(x,y,color='black',label='f(x)')\n",
    "plt.plot(integration(f,a,b,npoints+npoints_1)[1],color_finder(f,a,b,npoints+npoints_1)[2],'.',color='red')\n",
    "plt.plot(color_finder(f,a,b,npoints+npoints_1)[3],color_finder(f,a,b,npoints+npoints_1)[4],'.',color='blue')\n",
    "s=\"F(a,b)=%d\"%mcintegral\n",
    "label =s\n",
    "plt.xlim(a,b)\n",
    "plt.ylim(c,d)\n",
    "plt.xlabel('x')\n",
    "plt.ylabel('y')\n",
    "plt.legend(loc=2,frameon=True)"
   ]
  },
  {
   "cell_type": "code",
   "execution_count": null,
   "metadata": {},
   "outputs": [],
   "source": []
  },
  {
   "cell_type": "code",
   "execution_count": null,
   "metadata": {},
   "outputs": [],
   "source": []
  },
  {
   "cell_type": "code",
   "execution_count": null,
   "metadata": {},
   "outputs": [],
   "source": []
  },
  {
   "cell_type": "code",
   "execution_count": null,
   "metadata": {},
   "outputs": [],
   "source": []
  },
  {
   "cell_type": "code",
   "execution_count": null,
   "metadata": {},
   "outputs": [],
   "source": []
  }
 ],
 "metadata": {
  "kernelspec": {
   "display_name": "Python 3",
   "language": "python",
   "name": "python3"
  },
  "language_info": {
   "codemirror_mode": {
    "name": "ipython",
    "version": 3
   },
   "file_extension": ".py",
   "mimetype": "text/x-python",
   "name": "python",
   "nbconvert_exporter": "python",
   "pygments_lexer": "ipython3",
   "version": "3.7.0"
  }
 },
 "nbformat": 4,
 "nbformat_minor": 2
}
