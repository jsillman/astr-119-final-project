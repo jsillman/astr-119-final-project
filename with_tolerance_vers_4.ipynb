{
 "cells": [
  {
   "cell_type": "code",
   "execution_count": 1,
   "metadata": {},
   "outputs": [],
   "source": [
    "import numpy as np \n",
    "import matplotlib.pyplot as plt "
   ]
  },
  {
   "cell_type": "code",
   "execution_count": 2,
   "metadata": {},
   "outputs": [],
   "source": [
    "def function(x):        #define the function to integrate\n",
    "    return np.cos(x)\n",
    "cond_tol = 100\n",
    "tolerance = 0.001\n",
    "a = 0\n",
    "b = 1.75"
   ]
  },
  {
   "cell_type": "code",
   "execution_count": 3,
   "metadata": {},
   "outputs": [],
   "source": [
    "#create x and y arrays along the function in order to find the upper and lower bounds in y\n",
    "x = np.linspace(a,b,1000)\n",
    "y = function(x)\n",
    "c = np.amin(y)   #lower bound in y\n",
    "d = np.amax(y)   #upper bound in y\n",
    "\n",
    "if(np.sign(c)==np.sign(d)):     #if the entire range of the function is above or below y=0,\n",
    "        if(c<0):                # make sure that the area between the lower/upper bound and\n",
    "            d = 0               # the x-axis is counted by setting that bound = 0\n",
    "        elif(c>0):\n",
    "            c = 0\n"
   ]
  },
  {
   "cell_type": "code",
   "execution_count": 4,
   "metadata": {},
   "outputs": [],
   "source": [
    "def integration(f,a,b,n):\n",
    "        #f = the function to integrate\n",
    "        #a = lower bound in x\n",
    "        #b = upper bound in x\n",
    "        #n = the number of random points to generate\n",
    "\n",
    "     \n",
    "\n",
    "        #create x and y arrays of random points\n",
    "        xr = np.zeros(n)\n",
    "        yr = np.zeros(n)\n",
    "        for i in range(n):\n",
    "            xr[i] = np.random.random()*(b-a)    #spread the random points over the area\n",
    "            yr[i] = np.random.random()*(d-c)    # of the function\n",
    "            if(c<0):                #if the lower bound is negative, shift the area down so that\n",
    "                yr[i] += c          # some points are negative\n",
    "\n",
    "\n",
    "        pos_area_pts = 0.0      #positive points - points above y=0\n",
    "        neg_area_pts = 0.0      #negative points - points below y=0\n",
    "        for i in range(n):\n",
    "            if((yr[i]>=0 and f(xr[i])>=0) and np.fabs(yr[i])<=np.fabs(f(xr[i]))):   #for each random point:\n",
    "                pos_area_pts += 1.0                                                 # •if it is positive & under the curve,\n",
    "                #print(\"Positive point found: (%s, %s)\"%(xr[i],yr[i]))              #   count in positive pts\n",
    "            elif((yr[i]<0 and f(xr[i])<0) and np.fabs(yr[i])<=np.fabs(f(xr[i]))):   # •if it is negative & over the curve,\n",
    "                neg_area_pts += 1.0                                                 #   count in negative pts\n",
    "                #print(\"Negative point found: (%s, %s)\"%(xr[i],yr[i]))\n",
    "\n",
    "        area_pts = pos_area_pts - neg_area_pts      #subtract negative area from positive area\n",
    "        ratio = area_pts/n                      #calculate the ratio of points under the curve to total points\n",
    "        area = ratio*(b-a)*(d-c)            #apply the ratio to the total area within the bounds\n",
    "\n",
    "        return area"
   ]
  },
  {
   "cell_type": "code",
   "execution_count": 5,
   "metadata": {},
   "outputs": [
    {
     "name": "stdout",
     "output_type": "stream",
     "text": [
      "May take some time. Please wait\n",
      "1.024092196702017\n",
      "0.9713984147688034\n",
      "1.0309652986933056\n",
      "0.9454333628017128\n",
      "1.0034728907281507\n",
      "0.9703801774367606\n",
      "1.002200094063097\n",
      "0.991932867631666\n",
      "0.9745379798759353\n",
      "0.9820333380145835\n",
      "0.9819202005332454\n",
      "0.9809019632012026\n",
      "0.979817729005046\n",
      "0.9851131916732314\n",
      "0.9832055680295586\n",
      "0.9829279621725717\n",
      "done\n"
     ]
    }
   ],
   "source": [
    "npoints = 100\n",
    "npoints_1 = 150\n",
    "print(\"May take some time. Please wait\")\n",
    "while cond_tol >= tolerance: \n",
    "    npoints += (npoints * 2)\n",
    "    npoints_1 += (npoints_1 * 2)\n",
    "    \n",
    "\n",
    "\n",
    "    \n",
    "\n",
    "   \n",
    "    mcintegral = 0.0\n",
    "    #for i in range(npoints):                                   #I average the result of 1000 calculations in order\n",
    "    mcintegral += integration(function,a,b,npoints)\n",
    "        \n",
    "    #mcintegral /= npoints\n",
    "    \n",
    "    mcintegral_1 = 0.0\n",
    "    #for j in range(npoints_1):\n",
    "    mcintegral_1 += integration(function,a,b,npoints_1)\n",
    "    #mcintegral_1 /= npoints_1\n",
    "    print(mcintegral)\n",
    " \n",
    "    \n",
    "   \n",
    "      \n",
    "    print(mcintegral_1)\n",
    "    cond_tol = np.fabs(mcintegral_1 - mcintegral)\n",
    "\n",
    "print(\"done\")"
   ]
  },
  {
   "cell_type": "code",
   "execution_count": null,
   "metadata": {},
   "outputs": [],
   "source": [
    "print(cond_tol)"
   ]
  },
  {
   "cell_type": "code",
   "execution_count": null,
   "metadata": {},
   "outputs": [],
   "source": [
    "print(mcintegral_1)"
   ]
  },
  {
   "cell_type": "code",
   "execution_count": null,
   "metadata": {},
   "outputs": [],
   "source": [
    "z = (1.75**2 / 2) + (3 * 1.75)\n",
    "print(z)"
   ]
  },
  {
   "cell_type": "code",
   "execution_count": null,
   "metadata": {},
   "outputs": [],
   "source": [
    "z = np.sin(1.75)\n",
    "print(z)"
   ]
  },
  {
   "cell_type": "code",
   "execution_count": null,
   "metadata": {},
   "outputs": [],
   "source": []
  }
 ],
 "metadata": {
  "kernelspec": {
   "display_name": "Python 3",
   "language": "python",
   "name": "python3"
  },
  "language_info": {
   "codemirror_mode": {
    "name": "ipython",
    "version": 3
   },
   "file_extension": ".py",
   "mimetype": "text/x-python",
   "name": "python",
   "nbconvert_exporter": "python",
   "pygments_lexer": "ipython3",
   "version": "3.7.0"
  }
 },
 "nbformat": 4,
 "nbformat_minor": 2
}
