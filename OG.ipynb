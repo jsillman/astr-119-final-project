{
 "cells": [
  {
   "cell_type": "code",
   "execution_count": null,
   "metadata": {},
   "outputs": [],
   "source": [
    "import numpy as np \n",
    "import matplotlib.pyplot as plt "
   ]
  },
  {
   "cell_type": "code",
   "execution_count": null,
   "metadata": {},
   "outputs": [],
   "source": [
    "def function(x):        #define the function to integrate\n",
    "    return np.cos(x)\n"
   ]
  },
  {
   "cell_type": "code",
   "execution_count": null,
   "metadata": {},
   "outputs": [],
   "source": [
    "def integration(f,a,b,n):\n",
    "    #f = the function to integrate\n",
    "    #a = lower bound in x\n",
    "    #b = upper bound in x\n",
    "    #n = the number of random points to generate\n",
    "\n",
    "    #create x and y arrays along the function in order to find the upper and lower bounds in y\n",
    "    x = np.linspace(a,b,n)\n",
    "    y = f(x)\n",
    "    c = np.amin(y)   #lower bound in y\n",
    "    d = np.amax(y)   #upper bound in y\n",
    "\n",
    "    if(np.sign(c)==np.sign(d)):     #if the entire range of the function is above or below y=0,\n",
    "            if(c<0):                # make sure that the area between the lower/upper bound and\n",
    "                d = 0               # the x-axis is counted by setting that bound = 0\n",
    "            elif(c>0):\n",
    "                c = 0\n",
    "\n",
    "    #create x and y arrays of random points\n",
    "    xr = np.zeros(n)\n",
    "    yr = np.zeros(n)\n",
    "    for i in range(n):\n",
    "        xr[i] = np.random.random()*(b-a)    #spread the random points over the area\n",
    "        yr[i] = np.random.random()*(d-c)    # of the function\n",
    "        if(c<0):                #if the lower bound is negative, shift the area down so that\n",
    "            yr[i] += c          # some points are negative\n",
    "        \n",
    "\n",
    "    pos_area_pts = 0.0      #positive points - points above y=0\n",
    "    neg_area_pts = 0.0      #negative points - points below y=0\n",
    "    for i in range(n):\n",
    "        if((yr[i]>=0 and f(xr[i])>=0) and np.fabs(yr[i])<=np.fabs(f(xr[i]))):   #for each random point:\n",
    "            pos_area_pts += 1.0                                                 # •if it is positive & under the curve,\n",
    "            #print(\"Positive point found: (%s, %s)\"%(xr[i],yr[i]))              #   count in positive pts\n",
    "        elif((yr[i]<0 and f(xr[i])<0) and np.fabs(yr[i])<=np.fabs(f(xr[i]))):   # •if it is negative & over the curve,\n",
    "            neg_area_pts += 1.0                                                 #   count in negative pts\n",
    "            #print(\"Negative point found: (%s, %s)\"%(xr[i],yr[i]))\n",
    "\n",
    "    area_pts = pos_area_pts - neg_area_pts      #subtract negative area from positive area\n",
    "    ratio = area_pts/n                      #calculate the ratio of points under the curve to total points\n",
    "    area = ratio*(b-a)*(d-c)            #apply the ratio to the total area within the bounds\n",
    "\n",
    "    return area "
   ]
  },
  {
   "cell_type": "code",
   "execution_count": null,
   "metadata": {},
   "outputs": [],
   "source": [
    "a = 0.0\n",
    "b = 1.75\n",
    "npoints = 1000\n",
    "\n",
    "answer = np.sin(1.75)       #calculate the true answer for this specific function\n",
    "mcintegral = 0.0            #calculate the monte carlo integral\n",
    "for i in range(1000):                                   #I average the result of 1000 calculations in order\n",
    "    mcintegral += integration(function,a,b,npoints)     # to obtain better accuracy - functionally, I am\n",
    "mcintegral /= 1000                                      # generating 1 million points.\n",
    "print(\"Answer = \"+str(answer))              #print the true answer and the monte carlo result\n",
    "print(\"Monte Carlo = \"+str(mcintegral))     # and compare"
   ]
  }
 ],
 "metadata": {
  "kernelspec": {
   "display_name": "Python 3",
   "language": "python",
   "name": "python3"
  },
  "language_info": {
   "codemirror_mode": {
    "name": "ipython",
    "version": 3
   },
   "file_extension": ".py",
   "mimetype": "text/x-python",
   "name": "python",
   "nbconvert_exporter": "python",
   "pygments_lexer": "ipython3",
   "version": "3.6.5"
  }
 },
 "nbformat": 4,
 "nbformat_minor": 2
}
