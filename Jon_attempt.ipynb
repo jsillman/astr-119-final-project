{
 "cells": [
  {
   "cell_type": "code",
   "execution_count": null,
   "metadata": {},
   "outputs": [],
   "source": [
    "import numpy as np\n",
    "import matplotlib.pyplot as plt                 #import numpy and matplot"
   ]
  },
  {
   "cell_type": "code",
   "execution_count": null,
   "metadata": {},
   "outputs": [],
   "source": [
    "def f(x):                           #choose a function to integrate\n",
    "    return np.cos(x)\n",
    "\n",
    "xmin = 0.0                          # integrate from x values\n",
    "xmax = 1.75"
   ]
  },
  {
   "cell_type": "code",
   "execution_count": null,
   "metadata": {},
   "outputs": [],
   "source": [
    "r = 5000000\n",
    "ymin = f(xmin)                                  # find the minimum and maximum y value of the function with the given x values\n",
    "ymax = ymin\n",
    "\n",
    "for i in range(r):\n",
    "    x = xmin + (xmax - xmin) * float(i) / r        #this for loop checks for ymin and ymax within the given specified x range \n",
    "    y = f(x)\n",
    "    if y < ymin: ymin = y\n",
    "    if y > ymax: ymax = y"
   ]
  },
  {
   "cell_type": "code",
   "execution_count": null,
   "metadata": {},
   "outputs": [],
   "source": [
    "boxArea = (xmax - xmin) * (ymax - ymin)      #define a box around the function\n",
    "npoints = 1000000                            # number of points to place randomly in box\n",
    "flag = 0                                     #start point\n"
   ]
  },
  {
   "cell_type": "code",
   "execution_count": null,
   "metadata": {},
   "outputs": [],
   "source": [
    "for j in range(npoints):                                  #for loop to randomly place points in square\n",
    "    x = xmin + (xmax - xmin) * np.random.random()\n",
    "    y = ymin + (ymax - ymin) * np.random.random()\n",
    "    if np.fabs(y) <= np.fabs(f(x)):                       \n",
    "        if f(x) > 0 and y > 0 and y <= f(x):              # if f(x) and y are greater than zero and y is less than\n",
    "            flag += 1                                     # or equal to f(x) add point                 \n",
    "        if f(x) < 0 and y < 0 and y >= f(x):              # if f(x) and y are less than zero and y is greater than          \n",
    "            flag -= 1                                     # or equal to f(x) remove point \n",
    "      \n",
    "    functionArea = boxArea * float(flag) / npoints        # area under the curve is the area of the box mulitplied by          \n",
    "                                                          # the number of point under the curve divided by the total \n",
    "                                                          #number of point\n",
    "print(\"Monte Carlo Answer = \" + str(functionArea))        # calls and prints answer of the for loop   "
   ]
  },
  {
   "cell_type": "code",
   "execution_count": null,
   "metadata": {},
   "outputs": [],
   "source": [
    "z = np.sin(1.75)      #double check \n",
    "print(z)"
   ]
  },
  {
   "cell_type": "code",
   "execution_count": null,
   "metadata": {},
   "outputs": [],
   "source": []
  }
 ],
 "metadata": {
  "kernelspec": {
   "display_name": "Python 3",
   "language": "python",
   "name": "python3"
  },
  "language_info": {
   "codemirror_mode": {
    "name": "ipython",
    "version": 3
   },
   "file_extension": ".py",
   "mimetype": "text/x-python",
   "name": "python",
   "nbconvert_exporter": "python",
   "pygments_lexer": "ipython3",
   "version": "3.6.5"
  }
 },
 "nbformat": 4,
 "nbformat_minor": 2
}
